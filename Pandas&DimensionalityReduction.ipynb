{
  "nbformat": 4,
  "nbformat_minor": 5,
  "metadata": {
    "kernelspec": {
      "display_name": "Python 3 (ipykernel)",
      "language": "python",
      "name": "python3"
    },
    "language_info": {
      "codemirror_mode": {
        "name": "ipython",
        "version": 3
      },
      "file_extension": ".py",
      "mimetype": "text/x-python",
      "name": "python",
      "nbconvert_exporter": "python",
      "pygments_lexer": "ipython3",
      "version": "3.8.11"
    },
    "colab": {
      "name": "Pandas&DimensionalityReduction.ipynb",
      "provenance": [],
      "collapsed_sections": []
    }
  },
  "cells": [
    {
      "cell_type": "code",
      "metadata": {
        "id": "9cc259d8"
      },
      "source": [
        "import pandas as pd\n",
        "import matplotlib.pyplot as plt"
      ],
      "id": "9cc259d8",
      "execution_count": 4,
      "outputs": []
    },
    {
      "cell_type": "markdown",
      "metadata": {
        "id": "984f836d"
      },
      "source": [
        "#### Загрузить данные в pandas по url=https://raw.githubusercontent.com/justmarkham/DAT8/master/data/chipotle.tsv"
      ],
      "id": "984f836d"
    },
    {
      "cell_type": "markdown",
      "metadata": {
        "id": "f99a23c5"
      },
      "source": [
        ""
      ],
      "id": "f99a23c5"
    },
    {
      "cell_type": "markdown",
      "metadata": {
        "id": "1a64282e"
      },
      "source": [
        "#### 1. Вывести: кол-во наблюдений в датасете\n",
        "#### 2. Вывести названия столбцов\n",
        "#### 3. Определить самую частую позицию (item) в заказе \n",
        "#### 4. Построить гистрограмму частоты заказов по позициям (item )\n",
        "#### 5. Измените тип переменной item_price c с помощью лямбды функции\n",
        "#### 6. Построить гистограмму кол-во денег заработанных по каждой позиции (item)\n",
        "#### 7. Средняя сумма заказа? (минимум 2 способа)\n",
        "#### 8. Выведите среднее, минимальное и максимальное, медианное значения позиций в заказе\n",
        "#### 9. Определить статистику заказов стейков, а также статистику заказов прожарки.\n",
        "#### 10. Добавить новый столбец цен на каждую позицию в заказе в рублях.\n",
        "#### 11. Сгруппировать заказы по входящим позициям в него. Отдельно сгруппировать по стейкам во всех видах прожарках.\n",
        "#### 12. Определить цену по каждой позиции в отдельности. \n"
      ],
      "id": "1a64282e"
    },
    {
      "cell_type": "code",
      "metadata": {
        "id": "965cfec3"
      },
      "source": [
        "data = pd.read_csv(\"https://raw.githubusercontent.com/justmarkham/DAT8/master/data/chipotle.tsv\", sep='\\t')"
      ],
      "id": "965cfec3",
      "execution_count": 24,
      "outputs": []
    },
    {
      "cell_type": "code",
      "metadata": {
        "id": "I2G-Boxlk56f"
      },
      "source": [
        "data.head()"
      ],
      "id": "I2G-Boxlk56f",
      "execution_count": null,
      "outputs": []
    },
    {
      "cell_type": "code",
      "metadata": {
        "colab": {
          "base_uri": "https://localhost:8080/"
        },
        "id": "DobK3nCRbavn",
        "outputId": "420f0f69-8e40-4081-de64-5972a443099d"
      },
      "source": [
        "# 1 Вывести кол-во наблюдений в датасете\n",
        "print(len(data))"
      ],
      "id": "DobK3nCRbavn",
      "execution_count": 85,
      "outputs": [
        {
          "output_type": "stream",
          "name": "stdout",
          "text": [
            "4622\n"
          ]
        }
      ]
    },
    {
      "cell_type": "code",
      "metadata": {
        "colab": {
          "base_uri": "https://localhost:8080/"
        },
        "id": "8LGbsyowbMLO",
        "outputId": "2c97cc8c-00b0-4dc5-d767-0ae4fbef861d"
      },
      "source": [
        "# 2 Вывести названия столбцов\n",
        "print(*data.columns, sep='\\n')"
      ],
      "id": "8LGbsyowbMLO",
      "execution_count": 84,
      "outputs": [
        {
          "output_type": "stream",
          "name": "stdout",
          "text": [
            "order_id\n",
            "quantity\n",
            "item_name\n",
            "choice_description\n",
            "item_price\n"
          ]
        }
      ]
    },
    {
      "cell_type": "code",
      "metadata": {
        "colab": {
          "base_uri": "https://localhost:8080/"
        },
        "id": "QfLj8WGRbMjv",
        "outputId": "e895843b-8727-4daa-c3f6-639965d5fd8d"
      },
      "source": [
        "# 3 Определить самую частую позицию в заказе\n",
        "print(data['item_name'].mode()[0])"
      ],
      "id": "QfLj8WGRbMjv",
      "execution_count": 64,
      "outputs": [
        {
          "output_type": "stream",
          "name": "stdout",
          "text": [
            "Chicken Bowl\n"
          ]
        }
      ]
    },
    {
      "cell_type": "code",
      "metadata": {
        "id": "V3b82koNbMyw"
      },
      "source": [
        "# 5 Измените тип переменной item_price c с помощью лямбда функции\n",
        "data['item_price'] = data['item_price'].apply(lambda x: float(x[1:]))"
      ],
      "id": "V3b82koNbMyw",
      "execution_count": null,
      "outputs": []
    },
    {
      "cell_type": "code",
      "metadata": {
        "colab": {
          "base_uri": "https://localhost:8080/"
        },
        "id": "nyUUeWOSbYKR",
        "outputId": "200daa8e-987c-42f7-fa76-a8469f8f6e9a"
      },
      "source": [
        "# 7 Средняя сумма заказа\n",
        "# first variant\n",
        "orders_number = len(data['order_id'].value_counts())\n",
        "print((data['item_price'] * data['quantity']).sum() / orders_number)"
      ],
      "id": "nyUUeWOSbYKR",
      "execution_count": 81,
      "outputs": [
        {
          "output_type": "stream",
          "name": "stdout",
          "text": [
            "21.39423118865867\n"
          ]
        }
      ]
    },
    {
      "cell_type": "code",
      "metadata": {
        "colab": {
          "base_uri": "https://localhost:8080/"
        },
        "id": "kgwY90gTmPj-",
        "outputId": "2b579d50-e65e-44f0-b0dc-8659b49c0066"
      },
      "source": [
        "# 8 Выведите среднее, минимальное и максимальное, медианное значения позиций в заказе\n",
        "orders_data = data.groupby('order_id').size()\n",
        "print('average:', orders_data.mean())\n",
        "print('min:', orders_data.min())\n",
        "print('max:', orders_data.max())\n",
        "print('mode:', orders_data.mode()[0])"
      ],
      "id": "kgwY90gTmPj-",
      "execution_count": 60,
      "outputs": [
        {
          "output_type": "stream",
          "name": "stdout",
          "text": [
            "average: 2.520174482006543\n",
            "min: 1\n",
            "max: 23\n",
            "mode: 2\n"
          ]
        }
      ]
    },
    {
      "cell_type": "markdown",
      "metadata": {
        "id": "cf725ec6"
      },
      "source": [
        "### Алгоритмы уменьшения размерности \n",
        "\n",
        "#### повторить эксперименты в главе 5.1 Qalitative Comparison of Multiple Algorithms статьи статьи UMAP: Uniform Manifold\n",
        "#### Approximation and Projection for Dimension Reduction (https://arxiv.org/pdf/1802.03426.pdf)\n",
        "\n",
        "#### необходимо воспроизвести все графики данной главы, соотнести выводы из статьи с вашими результатами."
      ],
      "id": "cf725ec6"
    },
    {
      "cell_type": "code",
      "metadata": {
        "id": "0e3ac869"
      },
      "source": [
        ""
      ],
      "id": "0e3ac869",
      "execution_count": null,
      "outputs": []
    }
  ]
}